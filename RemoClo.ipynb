{
 "cells": [
  {
   "cell_type": "markdown",
   "metadata": {},
   "source": [
    "# How to Grow (almost) Anything 2021\n",
    "\n",
    "## Remote Cloning Exercise\n",
    "\n",
    "In this exercise, we will use the OT-2 robot to perform a complete synthetic biology workflow. As previously described, we will isolate the gene amilCP which encodes for a chromoprotein that was originally extracted from [Acropora Millepora](https://reefbuilders.com/2017/05/17/acropora-millepora/):\n",
    "\n",
    "![](https://reefbuilders.com/wp-content/blogs.dir/1/files/2017/05/acropora-millepora-wild-3.jpg)\n",
    "\n",
    "Below is the plan. You can choose to do it in a long day or during two sessions. Notice that you don't have to be engaged with the robot at all times - biology requires patience :)\n",
    "\n",
    "Part A:\n",
    "\n",
    "1. We will isolate the pUC19 backbone by restriction digest using the endonuclease enzyme PvuII (15-30 minutes)\n",
    "2. We will generate mutated fragments of the amilCP gene using mismatched PCR primers (1.5 hours)\n",
    "3. We will purify and quantify the fragments (this step will be performed by the TA)\n",
    "\n",
    "Part B:\n",
    "\n",
    "4. We will assemble the fragments and backbone using Gibson Assembly (15-30 minutes)\n",
    "5. We will transform the plasmid into competent E.coli cells by heat shock (30 minutes)\n",
    "6. We will incubate the transformed cells in the OpenTrons (60 minutes)\n",
    "6. We will plate the cells on LB agar plates \n",
    "7. We will incubate the plates overnight and see what grows (the last step will be performed by the TA)\n",
    "\n",
    "First, we load and initialize the OpenTrons library"
   ]
  },
  {
   "cell_type": "code",
   "execution_count": 1,
   "metadata": {},
   "outputs": [
    {
     "name": "stdout",
     "output_type": "stream",
     "text": [
      "Going home!\n"
     ]
    }
   ],
   "source": [
    "# Re-run this cell will reset the protocol!\n",
    "\n",
    "# import opentrons.execute\n",
    "# protocol = opentrons.execute.get_protocol_api('2.9')\n",
    "\n",
    "# Mockup\n",
    "from opentrons_mock import opentrons_execute_get_mock_api\n",
    "protocol = opentrons_execute_get_mock_api()\n",
    "protocol.home()"
   ]
  },
  {
   "cell_type": "markdown",
   "metadata": {},
   "source": [
    "------\n",
    "Next, we load all of the labware and modules for our workflow. Do not changes anything here"
   ]
  },
  {
   "cell_type": "code",
   "execution_count": 2,
   "metadata": {},
   "outputs": [
    {
     "name": "stdout",
     "output_type": "stream",
     "text": [
      "...\n",
      "Loaded opentrons_96_tiprack_20ul in deck slot 3\n",
      "...\n",
      "Loaded opentrons_96_tiprack_300ul in deck slot 6\n",
      "...\n",
      "Loaded usascientific_12_reservoir_22ml in deck slot 1\n",
      "...\n",
      "Loaded module temperature module gen2 in deck slot 4\n",
      "...\n",
      "Loaded module thermocycler in deck slot 10\n",
      "...\n",
      "Module temperature module gen2 loaded opentrons_24_aluminumblock_generic_2ml_screwcap\n",
      "...\n",
      "Module thermocycler loaded nest_96_wellplate_100ul_pcr_full_skirt\n"
     ]
    }
   ],
   "source": [
    "# Load labware\n",
    "\n",
    "# Tips\n",
    "tips_20ul = protocol.load_labware(\n",
    "    'opentrons_96_tiprack_20ul', \n",
    "    '3', \n",
    "    'Opentrons 20uL Tips')\n",
    "\n",
    "\n",
    "tips_300ul = protocol.load_labware(\n",
    "    'opentrons_96_tiprack_300ul', \n",
    "    '6', \n",
    "    'Opentrons 20uL Tips')\n",
    "\n",
    "\n",
    "# DNase/RNase-Free Water Reservoir\n",
    "water_container = protocol.load_labware(\n",
    "    'usascientific_12_reservoir_22ml', \n",
    "    '1', \n",
    "    'Water Source')\n",
    "\n",
    "\n",
    "# Modules\n",
    "\n",
    "temperature_module = protocol.load_module('temperature module gen2', 4)\n",
    "\n",
    "thermocycler_module = protocol.load_module('thermocycler')\n",
    "\n",
    "\n",
    "# Cold tray\n",
    "cold_tray = temperature_module.load_labware('opentrons_24_aluminumblock_generic_2ml_screwcap', label='Cold Tray')\n",
    "\n",
    "# Reaction Plate\n",
    "reaction_plate = thermocycler_module.load_labware('nest_96_wellplate_100ul_pcr_full_skirt', label='Reaction Plate')"
   ]
  },
  {
   "cell_type": "markdown",
   "metadata": {},
   "source": [
    "-------\n",
    "We need to configure our modules. We will use the temperature module as an \"ice block\" - it will keep all of our reagents and enzymes nice and cool at 4C until we are ready to mix them. The cell will finish executing only when it reaches the desired temperature - which would take a few minutes. There's a good chance the TA will already set the module to 4C before you start to save time.\n",
    "\n",
    "For the Thermocycler module - we open the lid and set the lid temperature to 102C. Lid temperature is different than the block temperature. The goal of lod temperature is to prevent evaporation of the reaction as it goes through elevated temperature. Since the lid is always hotter than the reaction, we minimize any evaporation."
   ]
  },
  {
   "cell_type": "code",
   "execution_count": 3,
   "metadata": {},
   "outputs": [
    {
     "name": "stdout",
     "output_type": "stream",
     "text": [
      "...\n",
      "Setting temperature to  4 C\n",
      "...\n",
      "Openning lid\n",
      "...\n",
      "Setting lid temperature to  102 C\n",
      "...\n",
      "Setting block temperature to  4 C\n"
     ]
    }
   ],
   "source": [
    "# Configure modules. This will take a few minutes if the modules are not already at 4C\n",
    "\n",
    "# Set cold tray to 4C\n",
    "temperature_module.set_temperature(4)\n",
    "\n",
    "# Open Thermocycler lid\n",
    "thermocycler_module.open_lid()\n",
    "\n",
    "# Set *Lid* temperature to 102C\n",
    "thermocycler_module.set_lid_temperature(102)\n",
    "\n",
    "# And set the Block temperature to 4C\n",
    "thermocycler_module.set_block_temperature(4)"
   ]
  },
  {
   "cell_type": "markdown",
   "metadata": {},
   "source": [
    "Now, pipettes. We will use two pipette for this experiment. \n",
    "\n",
    "Available ranges:\n",
    "- P20: 1 µL - 20 µL\n",
    "- P300: 20 µL - 300 µL"
   ]
  },
  {
   "cell_type": "code",
   "execution_count": 4,
   "metadata": {},
   "outputs": [
    {
     "name": "stdout",
     "output_type": "stream",
     "text": [
      "...\n",
      "Loaded instrument p20_single_gen2 in mount left\n",
      "...\n",
      "Loaded instrument p20_single in mount right\n"
     ]
    }
   ],
   "source": [
    "# Load pipettes\n",
    "pipette_20ul = protocol.load_instrument(\n",
    "    \"p20_single_gen2\", \n",
    "    \"left\",\n",
    "    tip_racks=[tips_20ul])\n",
    "\n",
    "pipette_300ul = protocol.load_instrument(\n",
    "    \"p300_single\", \n",
    "    \"right\",\n",
    "    tip_racks=[tips_300ul])"
   ]
  },
  {
   "cell_type": "code",
   "execution_count": 5,
   "metadata": {},
   "outputs": [],
   "source": [
    "# Choose starting tips, in case some of the tips are already used\n",
    "\n",
    "pipette_20ul.starting_tip = tips_20ul.well('A1')\n",
    "pipette_300ul.starting_tip = tips_300ul.well('A1')"
   ]
  },
  {
   "cell_type": "code",
   "execution_count": 6,
   "metadata": {},
   "outputs": [
    {
     "name": "stdout",
     "output_type": "stream",
     "text": [
      "...\n",
      " p20_single_gen2 is picking up a tip from A1\n",
      "...\n",
      " p20_single_gen2 is dropping a tip\n",
      "...\n",
      " p20_single is picking up a tip from A1\n",
      "...\n",
      " p20_single is dropping a tip\n"
     ]
    }
   ],
   "source": [
    "# And test it by picking and disposing a tip\n",
    "\n",
    "pipette_20ul.pick_up_tip()\n",
    "pipette_20ul.drop_tip()\n",
    "\n",
    "pipette_300ul.pick_up_tip()\n",
    "pipette_300ul.drop_tip()\n",
    "\n",
    "# Continue only if this step worked!"
   ]
  },
  {
   "cell_type": "markdown",
   "metadata": {},
   "source": [
    "## 1. Isolate pUC19 backbone by Restriction Digest\n",
    "\n",
    "Digest the pUC19 plasmid with the restriction enzyme PvuII to generate the linear blunt-ended backbone fragment.\n",
    "\n",
    "First, prepare the following reaction by filling in the Volume column:\n",
    "\n",
    "| Item | Location | Stock Concentration | Target Concentration | Volume (50uL total) |\n",
    "| ---- | ----- | ----- | ---- | --- |\n",
    "| DNase/RNase-Free Water | Water Reservoir | | | ? |\n",
    "| 10x NEB Buffer CutSmart | Cold Tray A1 | 10X | 1X | ? |\n",
    "| pUC19 | Cold Tray A2 | 1 mg/ml | 1 ug |  ? |\n",
    "| PvuII Enzyme | Cold Tray A3 | 20,000 U/ml | 60 U | ? |\n",
    "\n",
    "Then, choose an empty well in the 96-well plate in the thermocycler and transfer all of the reagents, to it.\n",
    "\n",
    "Finally, incubate in the thermocycler for **37C** for **15-30 minutes**. To see the optimal reaction temperature for your enzyme, you can always visit the product page: [PvuII-HF](https://www.neb.com/products/r3151-pvuii-hf#Product%20Information)"
   ]
  },
  {
   "cell_type": "code",
   "execution_count": 7,
   "metadata": {},
   "outputs": [
    {
     "name": "stdout",
     "output_type": "stream",
     "text": [
      "...\n",
      " p20_single_gen2 is picking up a tip from B1\n",
      "...\n",
      "##### Deck Slot 1 - Water Source [ A1 ] ---> ( 40 uL)\n",
      "...\n",
      "##### Deck Slot 10 - Reaction Plate [ A1 ] <--- ( 40 uL)\n",
      "...\n",
      " p20_single_gen2 blow out\n",
      "...\n",
      " p20_single_gen2 is dropping a tip\n",
      "...\n",
      " p20_single_gen2 is picking up a tip from C1\n",
      "...\n",
      "##### Deck Slot 4 - Cold Tray [ A1 ] ---> ( 5 uL)\n",
      "...\n",
      "##### Deck Slot 10 - Reaction Plate [ A1 ] <--- ( 5 uL)\n",
      "...\n",
      "##### Deck Slot 10 - Reaction Plate [ A1 ] - Mixing - 2 times, volume 10 uL\n",
      "...\n",
      " p20_single_gen2 blow out\n",
      "...\n",
      " p20_single_gen2 is dropping a tip\n",
      "...\n",
      " p20_single_gen2 is picking up a tip from D1\n",
      "...\n",
      "##### Deck Slot 4 - Cold Tray [ A2 ] ---> ( 2 uL)\n",
      "...\n",
      "##### Deck Slot 10 - Reaction Plate [ A1 ] <--- ( 2 uL)\n",
      "...\n",
      "##### Deck Slot 10 - Reaction Plate [ A1 ] - Mixing - 2 times, volume 10 uL\n",
      "...\n",
      " p20_single_gen2 blow out\n",
      "...\n",
      " p20_single_gen2 is dropping a tip\n",
      "...\n",
      " p20_single_gen2 is picking up a tip from E1\n",
      "...\n",
      "##### Deck Slot 4 - Cold Tray [ A3 ] ---> ( 3 uL)\n",
      "...\n",
      "##### Deck Slot 10 - Reaction Plate [ A1 ] <--- ( 3 uL)\n",
      "...\n",
      "##### Deck Slot 10 - Reaction Plate [ A1 ] - Mixing - 2 times, volume 10 uL\n",
      "...\n",
      " p20_single_gen2 blow out\n",
      "...\n",
      " p20_single_gen2 is dropping a tip\n"
     ]
    }
   ],
   "source": [
    "# Restriction Digest\n",
    "\n",
    "# Water\n",
    "pipette_300ul.pick_up_tip()\n",
    "pipette_300ul.aspirate(40, water_container['A1'])\n",
    "pipette_300ul.dispense(40, reaction_plate['A1'])\n",
    "pipette_300ul.blow_out()\n",
    "pipette_300ul.drop_tip()\n",
    "\n",
    "# Buffer\n",
    "pipette_20ul.pick_up_tip()\n",
    "pipette_20ul.aspirate(5, cold_tray['A1'])\n",
    "pipette_20ul.dispense(5, reaction_plate['A1'])\n",
    "pipette_20ul.mix(2, 10, reaction_plate['A1'])  # mix 2 times a volume of 10uL\n",
    "pipette_20ul.blow_out()\n",
    "pipette_20ul.drop_tip()\n",
    "\n",
    "# pUC19 DNA \n",
    "pipette_20ul.pick_up_tip()\n",
    "pipette_20ul.aspirate(2, cold_tray['A2'].bottom(0.5)) # 0.5mm from the bottom, instead of 1mm\n",
    "pipette_20ul.dispense(2, reaction_plate['A1'])\n",
    "pipette_20ul.mix(2, 10, reaction_plate['A1'])\n",
    "pipette_20ul.blow_out()\n",
    "pipette_20ul.drop_tip()\n",
    "\n",
    "# PvuII Enzyme\n",
    "pipette_20ul.pick_up_tip()\n",
    "pipette_20ul.aspirate(3, cold_tray['A3'])\n",
    "pipette_20ul.dispense(3, reaction_plate['A1'])\n",
    "pipette_20ul.mix(2, 10, reaction_plate['A1'])\n",
    "pipette_20ul.blow_out()\n",
    "pipette_20ul.drop_tip()"
   ]
  },
  {
   "cell_type": "code",
   "execution_count": 8,
   "metadata": {},
   "outputs": [
    {
     "name": "stdout",
     "output_type": "stream",
     "text": [
      "...\\Closing lid\n",
      "...\n",
      "Setting block temperature to  37 C\n",
      "For 15 minutes...\n",
      "...\n",
      "Setting block temperature to  4 C\n"
     ]
    }
   ],
   "source": [
    "# Start the reaction!\n",
    "# Heat up the thermocycler for the desired temperature and desired time period\n",
    "\n",
    "thermocycler_module.close_lid()\n",
    "thermocycler_module.set_block_temperature(37, \n",
    "                                          hold_time_minutes=15, \n",
    "                                          block_max_volume=50) # block_max_volume should be the total reaction volume\n",
    "\n",
    "# We're done with the restrioction digest! wait at 4C until the TA picks up the sample\n",
    "thermocycler_module.set_block_temperature(4)"
   ]
  },
  {
   "cell_type": "markdown",
   "metadata": {},
   "source": []
  },
  {
   "cell_type": "code",
   "execution_count": null,
   "metadata": {},
   "outputs": [],
   "source": []
  }
 ],
 "metadata": {
  "direction": "ltr",
  "kernelspec": {
   "display_name": "Python 3",
   "language": "python",
   "name": "python3"
  },
  "language_info": {
   "codemirror_mode": {
    "name": "ipython",
    "version": 3
   },
   "file_extension": ".py",
   "mimetype": "text/x-python",
   "name": "python",
   "nbconvert_exporter": "python",
   "pygments_lexer": "ipython3",
   "version": "3.7.9"
  }
 },
 "nbformat": 4,
 "nbformat_minor": 4
}
